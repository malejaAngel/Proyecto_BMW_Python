{
  "nbformat": 4,
  "nbformat_minor": 0,
  "metadata": {
    "colab": {
      "provenance": [],
      "authorship_tag": "ABX9TyOmw6eklpU715TZ7qDfCCnv",
      "include_colab_link": true
    },
    "kernelspec": {
      "name": "python3",
      "display_name": "Python 3"
    },
    "language_info": {
      "name": "python"
    }
  },
  "cells": [
    {
      "cell_type": "markdown",
      "metadata": {
        "id": "view-in-github",
        "colab_type": "text"
      },
      "source": [
        "<a href=\"https://colab.research.google.com/github/malejaAngel/Proyecto_BMW_Python/blob/main/Proyecto_Final_DF_BMW.ipynb\" target=\"_parent\"><img src=\"https://colab.research.google.com/assets/colab-badge.svg\" alt=\"Open In Colab\"/></a>"
      ]
    },
    {
      "cell_type": "markdown",
      "source": [
        "**PROYECTO FINAL BMW**"
      ],
      "metadata": {
        "id": "sJelklWJvPKy"
      }
    },
    {
      "cell_type": "markdown",
      "source": [
        "1.\tEncuentre un conjunto de datos\n",
        "o\tLocalice un conjunto de datos en línea desde una fuente confiable (por ejemplo, Kaggle, data.gov o una API abierta). Asegúrese de que el conjunto de datos sea apropiado para el análisis en términos de tamaño, complejidad y relevancia.\n",
        "\n",
        "\n",
        "BMW SALES(2010-2024)\n",
        "https://www.kaggle.com/datasets/y0ussefkandil/bmw-sales2010-2024"
      ],
      "metadata": {
        "id": "m8p5BTK7YIFp"
      }
    },
    {
      "cell_type": "markdown",
      "source": [
        "2.\tIngresar los datos\n",
        "o\tImporte los datos a Python. El método que utilice dependerá del formato del conjunto de datos (por ejemplo, CSV, JSON, Excel, base de datos SQL, API).\n",
        "o\tPor ejemplo:\n",
        "\tUso pandas.read_csv() para archivos CSV.\n",
        "\tUso pandas.read_json() para datos JSON.\n",
        "\tUso pandas.read_excel() para archivos Excel.\n",
        "\tPara obtener datos de API, utilice el requests biblioteca para recuperar datos y luego convertirlos en un DataFrame.\n"
      ],
      "metadata": {
        "id": "mr3QQdwxxW51"
      }
    },
    {
      "cell_type": "code",
      "source": [
        "# Importar librerías necesarias\n",
        "import pandas as pd\n",
        "\n",
        "# Cargar el archivo Excel (ajusta el nombre o ruta de tu archivo)\n",
        "df = pd.read_csv(\"/content/BMW sales data 2010-2024.csv\")\n",
        "\n",
        "# Mostrar los primeros registros\n",
        "print(df.head(10))\n",
        "\n",
        "# Mostrar cuantas filas y columnas tiene\n",
        "# Opción 1\n",
        "df.shape\n",
        "\n",
        "#Opcion 2\n",
        "filas, columnas = df.shape\n",
        "print(\"Número de filas:\", filas)\n",
        "print(\"Número de columnas:\", columnas)"
      ],
      "metadata": {
        "colab": {
          "base_uri": "https://localhost:8080/"
        },
        "id": "sPUrpI95wLck",
        "outputId": "0e35c8f1-a6f9-417c-899c-3dc0eeddaa3b"
      },
      "execution_count": null,
      "outputs": [
        {
          "output_type": "stream",
          "name": "stdout",
          "text": [
            "      Model  Year         Region   Color Fuel_Type Transmission  \\\n",
            "0  5 Series  2016           Asia     Red    Petrol       Manual   \n",
            "1        i8  2013  North America     Red    Hybrid    Automatic   \n",
            "2  5 Series  2022  North America    Blue    Petrol    Automatic   \n",
            "3        X3  2024    Middle East    Blue    Petrol    Automatic   \n",
            "4  7 Series  2020  South America   Black    Diesel       Manual   \n",
            "5  5 Series  2017    Middle East  Silver    Diesel       Manual   \n",
            "6        i8  2022         Europe   White    Diesel       Manual   \n",
            "7        M5  2014           Asia   Black    Diesel    Automatic   \n",
            "8        X3  2016  South America   White    Diesel    Automatic   \n",
            "9        i8  2019         Europe   White  Electric       Manual   \n",
            "\n",
            "   Engine_Size_L  Mileage_KM  Price_USD  Sales_Volume Sales_Classification  \n",
            "0            3.5      151748      98740          8300                 High  \n",
            "1            1.6      121671      79219          3428                  Low  \n",
            "2            4.5       10991     113265          6994                  Low  \n",
            "3            1.7       27255      60971          4047                  Low  \n",
            "4            2.1      122131      49898          3080                  Low  \n",
            "5            1.9      171362      42926          1232                  Low  \n",
            "6            1.8      196741      55064          7949                 High  \n",
            "7            1.6      121156     102778           632                  Low  \n",
            "8            1.7       48073     116482          8944                 High  \n",
            "9            3.0       35700      96257          4411                  Low  \n",
            "Número de filas: 50000\n",
            "Número de columnas: 11\n"
          ]
        }
      ]
    },
    {
      "cell_type": "code",
      "source": [
        "# Crear un nuevo DataFrame con solo las columnas que te interesan\n",
        "df_seleccion = df[['Model', 'Year', 'Region', 'Fuel_Type', 'Price_USD', 'Sales_Volume']]\n",
        "\n",
        "# Mostrar las primeras filas para comprobar\n",
        "print(df_seleccion.head())"
      ],
      "metadata": {
        "colab": {
          "base_uri": "https://localhost:8080/"
        },
        "id": "iL7a48dIZ9K4",
        "outputId": "905eea41-1234-4692-9a65-1521b3433c6e"
      },
      "execution_count": null,
      "outputs": [
        {
          "output_type": "stream",
          "name": "stdout",
          "text": [
            "      Model  Year         Region Fuel_Type  Price_USD  Sales_Volume\n",
            "0  5 Series  2016           Asia    Petrol      98740          8300\n",
            "1        i8  2013  North America    Hybrid      79219          3428\n",
            "2  5 Series  2022  North America    Petrol     113265          6994\n",
            "3        X3  2024    Middle East    Petrol      60971          4047\n",
            "4  7 Series  2020  South America    Diesel      49898          3080\n"
          ]
        }
      ]
    },
    {
      "cell_type": "markdown",
      "source": [
        "3.\tLimpieza de datos\n",
        "o\tRealizar operaciones de limpieza de datos. Abordar valores faltantes, tipos de datos incorrectos, valores atípicos o duplicados según sea necesario.\n",
        "o\tDocumente sus pasos de limpieza con comentarios en su código.\n"
      ],
      "metadata": {
        "id": "qf5Z4r95v_9K"
      }
    },
    {
      "cell_type": "code",
      "source": [
        "# Verificar información general del DataFrame\n",
        "\n",
        "print(df.info())\n",
        "\n",
        "# Mostrar los tipos de datos de cada columna\n",
        "print(df.dtypes)\n",
        "\n",
        "\n",
        "# Identificar valores nulos\n",
        "\n",
        "print(df.isnull().sum())\n",
        "\n",
        "# Si hay valores nulos, se pueden eliminar o reemplazar\n",
        "# Ejemplo: eliminar filas con datos faltantes\n",
        "df = df.dropna()\n",
        "\n",
        "# O rellenar con un valor específico (por ejemplo 0 o \"Desconocido\")\n",
        "# df['Color'].fillna('Desconocido', inplace=True)\n",
        "\n",
        "#Verificar duplicados\n",
        "print(f\"Duplicados antes de limpiar: {df.duplicated().sum()}\")\n",
        "\n",
        "# Eliminar duplicados si existen\n",
        "df = df.drop_duplicates()\n",
        "\n",
        "\n",
        "# Corregir tipos de datos\n",
        "\n",
        "# Convertir columnas a tipo numérico o de texto según corresponda\n",
        "df['Year'] = df['Year'].astype(int)\n",
        "df['Price_USD'] = pd.to_numeric(df['Price_USD'], errors='coerce')\n",
        "df['Mileage_KM'] = pd.to_numeric(df['Mileage_KM'], errors='coerce')\n",
        "\n",
        "#Manejo de valores atípicos (outliers)\n",
        "\n",
        "# Por ejemplo, detectar valores extremadamente altos o bajos en Precio o Kilometraje\n",
        "Q1 = df['Price_USD'].quantile(0.25)\n",
        "Q3 = df['Price_USD'].quantile(0.75)\n",
        "IQR = Q3 - Q1\n",
        "\n",
        "# Filtrar valores fuera del rango aceptable\n",
        "df = df[(df['Price_USD'] >= Q1 - 1.5 * IQR) & (df['Price_USD'] <= Q3 + 1.5 * IQR)]\n",
        "\n",
        "# Normalizar o estandarizar texto (mayúsculas/minúsculas)\n",
        "\n",
        "df['Color'] = df['Color'].str.strip().str.title()\n",
        "df['Fuel_Type'] = df['Fuel_Type'].str.strip().str.capitalize()\n"
      ],
      "metadata": {
        "colab": {
          "base_uri": "https://localhost:8080/"
        },
        "id": "AfBfLod3vR3a",
        "outputId": "2d58cdf6-596f-4a46-92e1-ba2e5ede9cc8"
      },
      "execution_count": null,
      "outputs": [
        {
          "output_type": "stream",
          "name": "stdout",
          "text": [
            "<class 'pandas.core.frame.DataFrame'>\n",
            "RangeIndex: 50000 entries, 0 to 49999\n",
            "Data columns (total 11 columns):\n",
            " #   Column                Non-Null Count  Dtype  \n",
            "---  ------                --------------  -----  \n",
            " 0   Model                 50000 non-null  object \n",
            " 1   Year                  50000 non-null  int64  \n",
            " 2   Region                50000 non-null  object \n",
            " 3   Color                 50000 non-null  object \n",
            " 4   Fuel_Type             50000 non-null  object \n",
            " 5   Transmission          50000 non-null  object \n",
            " 6   Engine_Size_L         50000 non-null  float64\n",
            " 7   Mileage_KM            50000 non-null  int64  \n",
            " 8   Price_USD             50000 non-null  int64  \n",
            " 9   Sales_Volume          50000 non-null  int64  \n",
            " 10  Sales_Classification  50000 non-null  object \n",
            "dtypes: float64(1), int64(4), object(6)\n",
            "memory usage: 4.2+ MB\n",
            "None\n",
            "Model                    object\n",
            "Year                      int64\n",
            "Region                   object\n",
            "Color                    object\n",
            "Fuel_Type                object\n",
            "Transmission             object\n",
            "Engine_Size_L           float64\n",
            "Mileage_KM                int64\n",
            "Price_USD                 int64\n",
            "Sales_Volume              int64\n",
            "Sales_Classification     object\n",
            "dtype: object\n",
            "Model                   0\n",
            "Year                    0\n",
            "Region                  0\n",
            "Color                   0\n",
            "Fuel_Type               0\n",
            "Transmission            0\n",
            "Engine_Size_L           0\n",
            "Mileage_KM              0\n",
            "Price_USD               0\n",
            "Sales_Volume            0\n",
            "Sales_Classification    0\n",
            "dtype: int64\n",
            "Duplicados antes de limpiar: 0\n",
            "Limpieza completada y archivo guardado como autos_limpios.xlsx\n"
          ]
        }
      ]
    },
    {
      "cell_type": "markdown",
      "source": [
        "4.\tManipulación de datos\n",
        "o\tManipular el conjunto de datos para prepararlo para el análisis. Su manipulación debe incluir\n",
        "\n",
        "\n",
        "*   Sortie\n",
        "*   Filtrado (por ejemplo, subconjunto de datos según condiciones)\n",
        "*   Agrupación (por ejemplo, por variables categóricas)\n",
        "*   Fusión (si se utilizan varios conjuntos de datos)\n",
        "*   Remodelar los datos (por ejemplo, pivotar, fundir)\n",
        "\n",
        "Explique cómo y por qué estas manipulaciones fueron necesarias en su README.\n"
      ],
      "metadata": {
        "id": "ZSPKR_3F0oI9"
      }
    },
    {
      "cell_type": "markdown",
      "source": [],
      "metadata": {
        "id": "9B7PSO8dupS_"
      }
    },
    {
      "cell_type": "code",
      "source": [
        "\n",
        "# SORTIE (Ordenar datos)\n",
        "\n",
        "# Ordenar por precio de mayor a menor\n",
        "df_sorted = df.sort_values(by='Price_USD', ascending=False)\n",
        "print(df_sorted.head)\n",
        "\n",
        "# Ordenar por año y luego por precio\n",
        "df_sorted2 = df.sort_values(by=['Year', 'Price_USD'], ascending=[True, False])\n",
        "\n",
        "#FILTRADO (Seleccionar subconjuntos según condiciones)\n",
        "\n",
        "# Ejemplo 1: autos eléctricos solamente\n",
        "df_electric = df[df['Fuel_Type'] == 'Electric']\n",
        "\n",
        "# Ejemplo 2: autos con precio mayor a 100,000 USD y ventas altas\n",
        "df_high_value = df[(df['Price_USD'] > 100000) & (df['Sales_Classification'] == 'High')]\n",
        "\n",
        "# Ejemplo 3: Crear un nuevo DataFrame solo con los años entre 2020 y 2024\n",
        "df_filtrado = df[(df['Year'] >= 2020) & (df['Year'] <= 2024)]\n",
        "\n",
        "# Mostrar las primeras filas para comprobar\n",
        "print(df_filtrado.head())\n",
        "\n",
        "\n",
        "# AGRUPACIÓN (GroupBy)\n",
        "# Agrupar por tipo de combustible y obtener promedio de precio y ventas\n",
        "grouped = df.groupby('Fuel_Type')[['Price_USD', 'Sales_Volume']].mean().reset_index()\n",
        "\n",
        "# Agrupar por región y contar cuántos modelos hay\n",
        "region_count = df.groupby('Region')['Model'].count().reset_index(name='Total_Models')\n"
      ],
      "metadata": {
        "colab": {
          "base_uri": "https://localhost:8080/"
        },
        "id": "L4DQnu6M0_M0",
        "outputId": "936e31ad-3477-4bd4-86d3-9067d6aea6c5"
      },
      "execution_count": null,
      "outputs": [
        {
          "output_type": "stream",
          "name": "stdout",
          "text": [
            "<bound method NDFrame.head of           Model  Year       Region   Color Fuel_Type Transmission  \\\n",
            "26071        i8  2010  Middle East  Silver  Electric       Manual   \n",
            "38158        X6  2019         Asia     Red  Electric    Automatic   \n",
            "6862         i8  2024       Africa  Silver    Diesel    Automatic   \n",
            "154          X1  2016       Africa    Grey    Petrol       Manual   \n",
            "6271   3 Series  2019  Middle East   White    Hybrid       Manual   \n",
            "...         ...   ...          ...     ...       ...          ...   \n",
            "3264   3 Series  2021  Middle East     Red    Hybrid       Manual   \n",
            "13439        M5  2018         Asia   Black    Hybrid       Manual   \n",
            "26405  5 Series  2015       Africa   White    Hybrid       Manual   \n",
            "19031        X5  2022         Asia    Blue    Diesel       Manual   \n",
            "3762         i8  2013         Asia    Grey  Electric    Automatic   \n",
            "\n",
            "       Engine_Size_L  Mileage_KM  Price_USD  Sales_Volume Sales_Classification  \n",
            "26071            4.2      115320     119998          5842                  Low  \n",
            "38158            3.3      142419     119997          4575                  Low  \n",
            "6862             4.1      163849     119997          9250                 High  \n",
            "154              4.1      172950     119996          9620                 High  \n",
            "6271             4.0       12264     119994          3259                  Low  \n",
            "...              ...         ...        ...           ...                  ...  \n",
            "3264             4.1       54636      30008          5554                  Low  \n",
            "13439            4.9       27843      30005          6316                  Low  \n",
            "26405            2.4      190634      30002          5469                  Low  \n",
            "19031            4.8      100254      30001          5035                  Low  \n",
            "3762             2.5      165642      30000          7782                 High  \n",
            "\n",
            "[50000 rows x 11 columns]>\n"
          ]
        }
      ]
    }
  ]
}